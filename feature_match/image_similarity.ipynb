{
 "cells": [
  {
   "cell_type": "code",
   "execution_count": 1,
   "metadata": {},
   "outputs": [],
   "source": [
    "#orm and ssim matrix method \n",
    "#we can use feaeture matching and template matching algos and then apply suitab;e colour channel selection to ensure better similarity \n",
    "from skimage.metrics import structural_similarity\n",
    "import cv2\n"
   ]
  },
  {
   "cell_type": "code",
   "execution_count": 2,
   "metadata": {},
   "outputs": [],
   "source": [
    "def orb_sim(img1,img2):\n",
    "    orb=cv2.ORB_create()\n",
    "\n",
    "    #dect key point and descriptors\n",
    "    kp_a,desc_a=orb.detectAndCompute(img1,None)\n",
    "    kp_b,desc_b=orb.detectAndCompute(img2,None)\n",
    "\n",
    "    #matcher object \n",
    "    bf=cv2.BFMatcher(cv2.NORM_HAMMING,crossCheck=True)\n",
    "\n",
    "    #matches perform \n",
    "    matches=bf.match(desc_a,desc_b)\n",
    "    similar_regions=[i for i in matches if i.distance<30] #scale down pixel distance diff for more precison\n",
    "    if len(matches)==0:\n",
    "        return 0 #no similar pixel \n",
    "    return len(similar_regions)/len(matches)  #probability of match \n",
    "#true +ves / total +ves [false and true ]\n"
   ]
  },
  {
   "cell_type": "code",
   "execution_count": 3,
   "metadata": {},
   "outputs": [],
   "source": [
    "def structural_similarity(img1,img2):\n",
    "    sim,diff=structural_similarity(img1,img2,full=True)\n",
    "    return sim"
   ]
  },
  {
   "cell_type": "code",
   "execution_count": 4,
   "metadata": {},
   "outputs": [
    {
     "name": "stdout",
     "output_type": "stream",
     "text": [
      "[[160 138 152 ... 141 130 124]\n",
      " [171 151 151 ... 146 141 136]\n",
      " [176 162 143 ... 144 149 149]\n",
      " ...\n",
      " [111  97 102 ... 183 213 221]\n",
      " [131 113 138 ... 216 225 213]\n",
      " [149 138 179 ... 216 219 218]]\n",
      "[[160 138 152 ... 141 130 124]\n",
      " [171 151 151 ... 146 141 136]\n",
      " [176 162 143 ... 144 149 149]\n",
      " ...\n",
      " [111  97 102 ... 183 213 221]\n",
      " [131 113 138 ... 216 225 213]\n",
      " [149 138 179 ... 216 219 218]]\n",
      "Similarity % 100.0\n"
     ]
    }
   ],
   "source": [
    "img00=cv2.imread('brickgrey1.jpeg',0)  #we can modify colour channels tp focus on more details \n",
    "img01=cv2.imread('brickgrey1.jpeg',0)\n",
    "\n",
    "orb_similarity=orb_sim(img00,img01)\n",
    "print(img00)\n",
    "print(img01)\n",
    "\n",
    "print(\"Similarity %\",orb_similarity*100)"
   ]
  }
 ],
 "metadata": {
  "kernelspec": {
   "display_name": "Python 3",
   "language": "python",
   "name": "python3"
  },
  "language_info": {
   "codemirror_mode": {
    "name": "ipython",
    "version": 3
   },
   "file_extension": ".py",
   "mimetype": "text/x-python",
   "name": "python",
   "nbconvert_exporter": "python",
   "pygments_lexer": "ipython3",
   "version": "3.9.13"
  }
 },
 "nbformat": 4,
 "nbformat_minor": 2
}
